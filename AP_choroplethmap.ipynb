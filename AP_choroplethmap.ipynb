{
  "cells": [
    {
      "cell_type": "markdown",
      "metadata": {
        "id": "view-in-github",
        "colab_type": "text"
      },
      "source": [
        "<a href=\"https://colab.research.google.com/github/sailee02/Choropleth-map-data-extraction/blob/main/AP_choroplethmap.ipynb\" target=\"_parent\"><img src=\"https://colab.research.google.com/assets/colab-badge.svg\" alt=\"Open In Colab\"/></a>"
      ]
    },
    {
      "cell_type": "code",
      "execution_count": null,
      "metadata": {
        "id": "0fVgBaeGZATq"
      },
      "outputs": [],
      "source": [
        "from google.colab import drive\n",
        "drive.mount('/content/drive')"
      ]
    },
    {
      "cell_type": "code",
      "execution_count": null,
      "metadata": {
        "id": "MLefIavgaiIO"
      },
      "outputs": [],
      "source": [
        "!pip install rasterio"
      ]
    },
    {
      "cell_type": "markdown",
      "metadata": {
        "id": "fnO23CBvZE2d"
      },
      "source": [
        "### Importing libraries and shapefile"
      ]
    },
    {
      "cell_type": "code",
      "execution_count": null,
      "metadata": {
        "id": "XWZf3yeVZEhX"
      },
      "outputs": [],
      "source": [
        "import geopandas as gpd\n",
        "import pandas as pd\n",
        "import matplotlib.pyplot as plt\n",
        "from shapely.geometry import box\n",
        "from rasterio.features import rasterize\n",
        "import numpy as np\n",
        "import rasterio\n",
        "from rasterio.transform import Affine\n",
        "from PIL import Image\n",
        "from skimage import feature\n",
        "from matplotlib.colors import LinearSegmentedColormap\n",
        "from affine import Affine\n",
        "from matplotlib.colors import LogNorm\n",
        "from sklearn.metrics import pairwise_distances_argmin\n",
        "from skimage.feature import canny\n",
        "from skimage.transform import AffineTransform"
      ]
    },
    {
      "cell_type": "code",
      "execution_count": null,
      "metadata": {
        "id": "_hNIxI4gWYuS"
      },
      "outputs": [],
      "source": [
        "shapefile_path = \"/content/drive/MyDrive/AP/cb_2018_us_county_500k/cb_2018_us_county_500k.shp\"\n",
        "shp = gpd.read_file(shapefile_path)\n",
        "shp = shp.to_crs(epsg=4326)\n",
        "shp_contig = shp.cx[-125:-66, 24:50]"
      ]
    },
    {
      "cell_type": "code",
      "execution_count": null,
      "metadata": {
        "id": "7EPCgySLZlW6"
      },
      "outputs": [],
      "source": [
        "shp.columns"
      ]
    },
    {
      "cell_type": "code",
      "execution_count": null,
      "metadata": {
        "id": "q_bCWgdza-CK"
      },
      "outputs": [],
      "source": [
        "width, height = 2048, 1024\n",
        "bounds = shp_contig.total_bounds\n",
        "transform = [(bounds[2] - bounds[0]) / width, 0, bounds[0], 0, -(bounds[3] - bounds[1]) / height, bounds[3]]\n",
        "transform_affine = Affine(*transform)"
      ]
    },
    {
      "cell_type": "code",
      "execution_count": null,
      "metadata": {
        "id": "jCQ-oxooa7QO"
      },
      "outputs": [],
      "source": [
        "def rasterize_boundaries(geoms, out_shape, transform):\n",
        "    return rasterize([(geom, 1) for geom in geoms], out_shape=out_shape, transform=transform, fill=0, dtype=np.uint8)"
      ]
    },
    {
      "cell_type": "code",
      "execution_count": null,
      "metadata": {
        "id": "So7iGVoda7Lx"
      },
      "outputs": [],
      "source": [
        "boundary_mask = rasterize_boundaries(shp_contig.boundary, (height, width), transform_affine)\n",
        "plt.imshow(boundary_mask, cmap='gray')\n",
        "plt.title(\"County Boundaries\")\n",
        "plt.show()"
      ]
    },
    {
      "cell_type": "code",
      "source": [
        "def generate_smooth_rgb_cmap():\n",
        "    colors = [\n",
        "        [0, 0, 0],    # Black\n",
        "        [1, 0, 0],    # Red\n",
        "        [1, 1, 0],    # Yellow\n",
        "        [0, 1, 0],    # Green\n",
        "        [0, 1, 1],    # Cyan\n",
        "        [0, 0, 1],    # Blue\n",
        "        [1, 0, 1],    # Magenta\n",
        "        [1, 1, 1]     # White\n",
        "    ]\n",
        "    return LinearSegmentedColormap.from_list(\"smooth_rgb\", colors, N=128)\n",
        "\n",
        "def crop_image_to_content(image_path, save_path):\n",
        "    img = Image.open(image_path).convert(\"RGB\")\n",
        "    img_np = np.array(img)\n",
        "\n",
        "    mask = np.any(img_np != [255, 255, 255], axis=-1)\n",
        "    if not np.any(mask):\n",
        "        print(\"No non-white content found.\")\n",
        "        return\n",
        "\n",
        "    coords = np.argwhere(mask)\n",
        "    y0, x0 = coords.min(axis=0)\n",
        "    y1, x1 = coords.max(axis=0) + 1\n",
        "\n",
        "    cropped = img.crop((x0, y0, x1, y1))\n",
        "    if save_path:\n",
        "        cropped.save(save_path)\n",
        "    return cropped\n",
        "\n",
        "def generate_choropleth_from_column(\n",
        "    gdf,\n",
        "    column,\n",
        "    output_path,\n",
        "    cmap=None,\n",
        "    n_bins=128,\n",
        "    projection_epsg=4326,\n",
        "    xlim=(-125, -66),\n",
        "    ylim=(24, 50),\n",
        "    figsize=(19, 10),\n",
        "    legend=False\n",
        "):\n",
        "    cmap = generate_smooth_rgb_cmap()\n",
        "\n",
        "    gdf = gdf.to_crs(epsg=projection_epsg)\n",
        "    gdf_crop = gdf.cx[xlim[0]:xlim[1], ylim[0]:ylim[1]]\n",
        "\n",
        "    fig, ax = plt.subplots(1, 1, figsize=figsize)\n",
        "    gdf_crop.plot(\n",
        "        column=column,\n",
        "        cmap=cmap,\n",
        "        linewidth=0.3,\n",
        "        edgecolor='0.8',\n",
        "        ax=ax,\n",
        "        legend=legend,\n",
        "        norm=LogNorm(\n",
        "            vmin=gdf_crop[column].quantile(0.01),\n",
        "            vmax=gdf_crop[column].quantile(0.99)\n",
        "        ),\n",
        "        missing_kwds={\"color\": \"lightgrey\"}\n",
        "    )\n",
        "    fig.patch.set_visible(False)\n",
        "    ax.axis('off')\n",
        "    ax.set_position([0, 0, 1, 1])\n",
        "    plt.savefig(output_path, dpi=150, bbox_inches=None)\n",
        "    plt.show()\n",
        "    plt.close()\n",
        "\n",
        "    crop_image_to_content(output_path, output_path)\n",
        "    print(f\"Saved and cropped: {output_path}\")\n",
        "    return gdf_crop"
      ],
      "metadata": {
        "id": "_D_j8FcJOdwM"
      },
      "execution_count": null,
      "outputs": []
    },
    {
      "cell_type": "markdown",
      "source": [
        "### Population Dataset"
      ],
      "metadata": {
        "id": "MAO_HuMKCu23"
      }
    },
    {
      "cell_type": "code",
      "execution_count": null,
      "metadata": {
        "id": "OU3GB6QwZY3W"
      },
      "outputs": [],
      "source": [
        "path_pop = \"/content/drive/MyDrive/AP/cb_2018_us_county_500k/county_pop_data.csv\"\n",
        "df_pop = pd.read_csv(path_pop, dtype={'GEOID': str})"
      ]
    },
    {
      "cell_type": "code",
      "execution_count": null,
      "metadata": {
        "id": "3HoveZ7fZ1Z9"
      },
      "outputs": [],
      "source": [
        "df_pop.columns"
      ]
    },
    {
      "cell_type": "code",
      "execution_count": null,
      "metadata": {
        "id": "uKIVHg0HZdeg"
      },
      "outputs": [],
      "source": [
        "shp['GEOID'] = shp['GEOID'].astype(int)\n",
        "merged = shp.merge(df_pop, left_on='GEOID', right_on='fips', how='inner')"
      ]
    },
    {
      "cell_type": "code",
      "source": [
        "merged.shape"
      ],
      "metadata": {
        "id": "pIlCHaFEUtIj"
      },
      "execution_count": null,
      "outputs": []
    },
    {
      "cell_type": "code",
      "source": [
        "merged_pop = generate_choropleth_from_column(gdf=merged, column='pop2017', output_path='/content/drive/MyDrive/AP/map_pop.png')"
      ],
      "metadata": {
        "id": "Sp1tGWAOO3Hm"
      },
      "execution_count": null,
      "outputs": []
    },
    {
      "cell_type": "markdown",
      "source": [
        "### Align"
      ],
      "metadata": {
        "id": "U2Pw0ZhPZ3WT"
      }
    },
    {
      "cell_type": "code",
      "execution_count": null,
      "metadata": {
        "id": "E2-nKw3Qcki3"
      },
      "outputs": [],
      "source": [
        "img_path = \"/content/drive/MyDrive/AP/map_pop.png\"\n",
        "img = Image.open(img_path).convert(\"L\")"
      ]
    },
    {
      "cell_type": "code",
      "execution_count": null,
      "metadata": {
        "id": "DgwPypobckgi"
      },
      "outputs": [],
      "source": [
        "img_resized = img.resize((boundary_mask.shape[1], boundary_mask.shape[0]))\n",
        "img_np = np.array(img_resized)"
      ]
    },
    {
      "cell_type": "code",
      "source": [
        "edges_img = feature.canny(img_np, sigma=0.5)"
      ],
      "metadata": {
        "id": "3rpkNF0ghrfD"
      },
      "execution_count": null,
      "outputs": []
    },
    {
      "cell_type": "code",
      "source": [
        "plt.figure(figsize=(12, 6))\n",
        "plt.imshow(edges_img, cmap='gray')\n",
        "plt.contour(boundary_mask, colors='red', linewidths=0.5)\n",
        "plt.title(\"Detected Image Edges + Shapefile County Boundary Overlay\")\n",
        "plt.axis(\"off\")\n",
        "plt.show()"
      ],
      "metadata": {
        "id": "ZcfDiWt-huMP"
      },
      "execution_count": null,
      "outputs": []
    },
    {
      "cell_type": "code",
      "source": [
        "img = Image.open(img_path).convert(\"RGB\")\n",
        "img_np = np.array(img)\n",
        "height, width = img_np.shape[:2]"
      ],
      "metadata": {
        "id": "lDxAc2vLk_sT"
      },
      "execution_count": null,
      "outputs": []
    },
    {
      "cell_type": "code",
      "source": [
        "gdf = merged_pop.copy()\n",
        "gdf['interior'] = gdf.geometry.representative_point()"
      ],
      "metadata": {
        "id": "ndt9ZJ3hMPsR"
      },
      "execution_count": null,
      "outputs": []
    },
    {
      "cell_type": "code",
      "source": [
        "bounds = gdf.total_bounds\n",
        "xres = (bounds[2] - bounds[0]) / width\n",
        "yres = (bounds[3] - bounds[1]) / height\n",
        "transform = Affine.translation(bounds[0], bounds[3]) * Affine.scale(xres, -yres)\n",
        "\n",
        "def pixel(x, y, transform):\n",
        "    col, row = ~transform * (x, y)\n",
        "    return int(row), int(col)\n",
        "\n",
        "pixel_coords = gdf['interior'].apply(lambda pt: pixel(pt.x, pt.y, transform))\n",
        "pixel_coords = np.array(pixel_coords.to_list())"
      ],
      "metadata": {
        "id": "0ABgNVUVMST8"
      },
      "execution_count": null,
      "outputs": []
    },
    {
      "cell_type": "code",
      "source": [
        "def rgb(img_array, pixel_coords):\n",
        "    h, w = img_array.shape[:2]\n",
        "    rgb_vals = []\n",
        "    for y, x in pixel_coords:\n",
        "        if 0 <= y < h and 0 <= x < w:\n",
        "            rgb_vals.append(tuple(img_array[y, x]))\n",
        "        else:\n",
        "            rgb_vals.append((0, 0, 0))\n",
        "    return rgb_vals\n",
        "\n",
        "gdf['rgb'] = rgb(img_np, pixel_coords)"
      ],
      "metadata": {
        "id": "NSw8XTjfMSQo"
      },
      "execution_count": null,
      "outputs": []
    },
    {
      "cell_type": "code",
      "source": [
        "print(gdf[['GEOID', 'pop2017', 'rgb']])"
      ],
      "metadata": {
        "id": "4hmrbtdEKjYi"
      },
      "execution_count": null,
      "outputs": []
    },
    {
      "cell_type": "code",
      "source": [
        "def rgb_leg(n_bins):\n",
        "    cmap = generate_smooth_rgb_cmap()\n",
        "    return (np.array([cmap(i / n_bins)[:3] for i in range(n_bins)]) * 255).astype(int)\n",
        "\n",
        "rgb_legend = rgb_leg(128)\n",
        "rgb_array = np.array(gdf['rgb'].tolist())\n",
        "bin_indices = pairwise_distances_argmin(rgb_array, rgb_legend)\n",
        "gdf['bin_index'] = bin_indices"
      ],
      "metadata": {
        "id": "xp0SE4mWLbCx"
      },
      "execution_count": null,
      "outputs": []
    },
    {
      "cell_type": "code",
      "source": [
        "vmin = gdf['pop2017'].quantile(0.01)\n",
        "vmax = gdf['pop2017'].quantile(0.99)\n",
        "\n",
        "bin_edges = np.logspace(np.log10(vmin), np.log10(vmax), 129)\n",
        "bin_centers = (bin_edges[:-1] + bin_edges[1:]) / 2\n",
        "\n",
        "gdf['estimated_pop'] = gdf['bin_index'].apply(lambda i: bin_centers[i])"
      ],
      "metadata": {
        "id": "eApHQeP8Li_E"
      },
      "execution_count": null,
      "outputs": []
    },
    {
      "cell_type": "code",
      "source": [
        "gdf['abs_error'] = np.abs(gdf['pop2017'] - gdf['estimated_pop'])\n",
        "gdf['rel_error'] = gdf['abs_error'] / gdf['pop2017']\n",
        "\n",
        "mean_abs_error = gdf['abs_error'].mean()\n",
        "mean_rel_error = gdf['rel_error'].mean()\n",
        "accuracy_within_5_percent = (gdf['rel_error'] <= 0.05).mean() * 100\n",
        "\n",
        "print(f\"Mean relative error: {mean_rel_error:.2%}\")\n",
        "print(f\"Accuracy within 5%: {accuracy_within_5_percent:.2f}%\")"
      ],
      "metadata": {
        "id": "-d6QRqFELs1B"
      },
      "execution_count": null,
      "outputs": []
    },
    {
      "cell_type": "markdown",
      "source": [
        "### Mortality Rates Dataset"
      ],
      "metadata": {
        "id": "uT0TvlBnQAAw"
      }
    },
    {
      "cell_type": "code",
      "source": [
        "path_mor = \"/content/drive/MyDrive/AP/cb_2018_us_county_500k/county_mortality_data_clean.csv\"\n",
        "df_mor = pd.read_csv(path_mor)"
      ],
      "metadata": {
        "id": "Wqwy-KLFQC0O"
      },
      "execution_count": null,
      "outputs": []
    },
    {
      "cell_type": "code",
      "source": [
        "df_mor.columns"
      ],
      "metadata": {
        "id": "wHeigFBNQCx9"
      },
      "execution_count": null,
      "outputs": []
    },
    {
      "cell_type": "code",
      "source": [
        "# df_mor['val'] = df_mor['val'].fillna(df_mor['val'].median())"
      ],
      "metadata": {
        "id": "dYB9ny06RgFT"
      },
      "execution_count": null,
      "outputs": []
    },
    {
      "cell_type": "code",
      "source": [
        "shp['GEOID'] = shp['GEOID'].astype(int)\n",
        "merged = shp.merge(df_mor, left_on='GEOID', right_on='GEOID', how='inner')\n",
        "# merged = merged.dissolve(by='GEOID', aggfunc={'val': 'mean'})"
      ],
      "metadata": {
        "id": "Krqznp4UQCvX"
      },
      "execution_count": null,
      "outputs": []
    },
    {
      "cell_type": "code",
      "source": [
        "# merged_clean = merged.reset_index().drop(columns='geometry')\n",
        "# output_path = \"/content/drive/MyDrive/AP/cb_2018_us_county_500k/county_mortality_data_clean.csv\"\n",
        "# merged_clean.to_csv(output_path, index=False)\n",
        "# print(f\"Saved the clean mortality data at: {output_path}\")"
      ],
      "metadata": {
        "id": "Be203CtYVUA1"
      },
      "execution_count": null,
      "outputs": []
    },
    {
      "cell_type": "code",
      "source": [
        "merged.columns"
      ],
      "metadata": {
        "id": "Cmm-umv6aovd"
      },
      "execution_count": null,
      "outputs": []
    },
    {
      "cell_type": "code",
      "source": [
        "merged_mor = generate_choropleth_from_column(gdf=merged, column='val', output_path='/content/drive/MyDrive/AP/map_mor.png')"
      ],
      "metadata": {
        "id": "ARwwYfeEQ8bC"
      },
      "execution_count": null,
      "outputs": []
    },
    {
      "cell_type": "code",
      "source": [
        "merged_mor.columns"
      ],
      "metadata": {
        "id": "QtgA2ICZakpu"
      },
      "execution_count": null,
      "outputs": []
    },
    {
      "cell_type": "code",
      "source": [
        "img_path = \"/content/drive/MyDrive/AP/map_mor.png\"\n",
        "img = Image.open(img_path).convert(\"L\")"
      ],
      "metadata": {
        "id": "F5stIux2Q8VQ"
      },
      "execution_count": null,
      "outputs": []
    },
    {
      "cell_type": "code",
      "source": [
        "img_resized = img.resize((boundary_mask.shape[1], boundary_mask.shape[0]))\n",
        "img_np = np.array(img_resized)"
      ],
      "metadata": {
        "id": "w5fg89X0Z_Ge"
      },
      "execution_count": null,
      "outputs": []
    },
    {
      "cell_type": "code",
      "source": [
        "edges_img = feature.canny(img_np, sigma=0.5)"
      ],
      "metadata": {
        "id": "nztGRmXyaBC1"
      },
      "execution_count": null,
      "outputs": []
    },
    {
      "cell_type": "code",
      "source": [
        "plt.figure(figsize=(12, 6))\n",
        "plt.imshow(edges_img, cmap='gray')\n",
        "plt.contour(boundary_mask, colors='red', linewidths=0.5)\n",
        "plt.title(\"Detected Image Edges + Shapefile County Boundary Overlay\")\n",
        "plt.axis(\"off\")\n",
        "plt.show()"
      ],
      "metadata": {
        "id": "2hrt5YPPaBi6"
      },
      "execution_count": null,
      "outputs": []
    },
    {
      "cell_type": "code",
      "source": [
        "img = Image.open(img_path).convert(\"RGB\")\n",
        "img_np = np.array(img)\n",
        "height, width = img_np.shape[:2]"
      ],
      "metadata": {
        "id": "S93wg5Q3aBfJ"
      },
      "execution_count": null,
      "outputs": []
    },
    {
      "cell_type": "code",
      "source": [
        "gdf = merged_mor.copy()\n",
        "gdf['interior'] = gdf.geometry.representative_point()"
      ],
      "metadata": {
        "id": "Mj9OFqlgaBdD"
      },
      "execution_count": null,
      "outputs": []
    },
    {
      "cell_type": "code",
      "source": [
        "bounds = gdf.total_bounds\n",
        "xres = (bounds[2] - bounds[0]) / width\n",
        "yres = (bounds[3] - bounds[1]) / height\n",
        "transform = Affine.translation(bounds[0], bounds[3]) * Affine.scale(xres, -yres)\n",
        "\n",
        "pixel_coords = gdf['interior'].apply(lambda pt: pixel(pt.x, pt.y, transform))\n",
        "pixel_coords = np.array(pixel_coords.to_list())"
      ],
      "metadata": {
        "id": "tWQrJtiJaBaR"
      },
      "execution_count": null,
      "outputs": []
    },
    {
      "cell_type": "code",
      "source": [
        "gdf['rgb'] = rgb(img_np, pixel_coords)"
      ],
      "metadata": {
        "id": "rjzMj6gpaXxU"
      },
      "execution_count": null,
      "outputs": []
    },
    {
      "cell_type": "code",
      "source": [
        "print(gdf[['GEOID', 'val', 'rgb']])"
      ],
      "metadata": {
        "id": "9ne9e5_Jabb3"
      },
      "execution_count": null,
      "outputs": []
    },
    {
      "cell_type": "code",
      "source": [
        "rgb_legend = rgb_leg(128)\n",
        "rgb_array = np.array(gdf['rgb'].tolist())\n",
        "bin_indices = pairwise_distances_argmin(rgb_array, rgb_legend)\n",
        "gdf['bin_index'] = bin_indices"
      ],
      "metadata": {
        "id": "nP3jA1Eqb07q"
      },
      "execution_count": null,
      "outputs": []
    },
    {
      "cell_type": "code",
      "source": [
        "vmin = gdf['val'].quantile(0.01)\n",
        "vmax = gdf['val'].quantile(0.99)\n",
        "\n",
        "bin_edges = np.logspace(np.log10(vmin), np.log10(vmax), 129)\n",
        "bin_centers = (bin_edges[:-1] + bin_edges[1:]) / 2\n",
        "\n",
        "gdf['estimated_mor'] = gdf['bin_index'].apply(lambda i: bin_centers[i])"
      ],
      "metadata": {
        "id": "n2qIhpBYcDt9"
      },
      "execution_count": null,
      "outputs": []
    },
    {
      "cell_type": "code",
      "source": [
        "gdf['abs_error'] = np.abs(gdf['val'] - gdf['estimated_mor'])\n",
        "gdf['rel_error'] = gdf['abs_error'] / gdf['val']\n",
        "\n",
        "mean_abs_error = gdf['abs_error'].mean()\n",
        "mean_rel_error = gdf['rel_error'].mean()\n",
        "accuracy_within_5_percent = (gdf['rel_error'] <= 0.05).mean() * 100\n",
        "\n",
        "print(f\"Mean relative error: {mean_rel_error:.2%}\")\n",
        "print(f\"Accuracy within 5%: {accuracy_within_5_percent:.2f}%\")"
      ],
      "metadata": {
        "id": "bHVLAUQbcLys"
      },
      "execution_count": null,
      "outputs": []
    },
    {
      "cell_type": "markdown",
      "source": [
        "### Test 1"
      ],
      "metadata": {
        "id": "mvlNErSt_zXe"
      }
    },
    {
      "cell_type": "code",
      "source": [
        "shapefile_path = \"/content/drive/MyDrive/AP/cb_2018_us_county_500k/cb_2018_us_county_500k.shp\"\n",
        "shp = gpd.read_file(shapefile_path)\n",
        "shp5070 = shp.to_crs(epsg=5070)\n",
        "shp5070 = shp5070[~shp5070[\"STATEFP\"].isin([\"02\", \"15\", \"72\"])]\n",
        "shp5070['interior'] = shp5070.geometry.representative_point()"
      ],
      "metadata": {
        "id": "CPx4VZUWwtDd"
      },
      "execution_count": null,
      "outputs": []
    },
    {
      "cell_type": "code",
      "source": [
        "x_min, x_max = -2400000, 2300000\n",
        "y_min, y_max = 300000, 3200000"
      ],
      "metadata": {
        "id": "1vLljYmX5rcc"
      },
      "execution_count": null,
      "outputs": []
    },
    {
      "cell_type": "code",
      "source": [
        "shp5070 = shp5070.cx[x_min:x_max, y_min:y_max]"
      ],
      "metadata": {
        "id": "3u0QahhA5rJJ"
      },
      "execution_count": null,
      "outputs": []
    },
    {
      "cell_type": "code",
      "source": [
        "width, height = 2048, 1024\n",
        "bounds = shp5070.total_bounds\n",
        "transform = [(bounds[2] - bounds[0]) / width, 0, bounds[0], 0, -(bounds[3] - bounds[1]) / height, bounds[3]]\n",
        "transform_affine = Affine(*transform)"
      ],
      "metadata": {
        "id": "KFlEwodR4YbR"
      },
      "execution_count": null,
      "outputs": []
    },
    {
      "cell_type": "code",
      "source": [
        "boundary_mask = rasterize_boundaries(shp5070.boundary, (height, width), transform_affine)\n",
        "plt.imshow(boundary_mask, cmap='gray')\n",
        "plt.title(\"County Boundaries 5070\")\n",
        "plt.show()"
      ],
      "metadata": {
        "id": "O9ILLz8k3whI"
      },
      "execution_count": null,
      "outputs": []
    },
    {
      "cell_type": "code",
      "source": [
        "img_path = \"/content/drive/MyDrive/AP/test01.png\"\n",
        "img = Image.open(img_path).convert(\"RGB\")\n",
        "plt.imshow(img)\n",
        "plt.show()"
      ],
      "metadata": {
        "id": "5dgCqK-nGilS"
      },
      "execution_count": null,
      "outputs": []
    },
    {
      "cell_type": "code",
      "source": [
        "cropped_img = crop_image_to_content(img_path, img_path)"
      ],
      "metadata": {
        "id": "PFjNGvl3_2uN"
      },
      "execution_count": null,
      "outputs": []
    },
    {
      "cell_type": "code",
      "source": [
        "img = Image.open(img_path).convert(\"L\")"
      ],
      "metadata": {
        "id": "8-8bW7pG_Isp"
      },
      "execution_count": null,
      "outputs": []
    },
    {
      "cell_type": "code",
      "source": [
        "img_resized = img.resize((boundary_mask.shape[1], boundary_mask.shape[0]))\n",
        "img_np = np.array(img_resized)"
      ],
      "metadata": {
        "id": "GqDa0DP5-J6u"
      },
      "execution_count": null,
      "outputs": []
    },
    {
      "cell_type": "code",
      "source": [
        "img_np.shape"
      ],
      "metadata": {
        "id": "SvaLwpqFIkyl"
      },
      "execution_count": null,
      "outputs": []
    },
    {
      "cell_type": "code",
      "source": [
        "edges = canny(img_np, sigma=0)\n",
        "plt.imshow(edges, cmap='gray')\n",
        "plt.contour(boundary_mask, colors='red', linewidths=0.5)"
      ],
      "metadata": {
        "id": "6HPGPuxIwtBH"
      },
      "execution_count": null,
      "outputs": []
    },
    {
      "cell_type": "code",
      "source": [
        "img = Image.open(img_path).convert(\"RGB\")\n",
        "img_np = np.array(img)\n",
        "img_resized = img.resize((boundary_mask.shape[1], boundary_mask.shape[0]))\n",
        "img_np = np.array(img_resized)"
      ],
      "metadata": {
        "id": "h0h-dHSW6bfw"
      },
      "execution_count": null,
      "outputs": []
    },
    {
      "cell_type": "code",
      "source": [
        "height, width = img_np.shape[:2]\n",
        "height, width"
      ],
      "metadata": {
        "id": "Z9TpdaM2AY5I"
      },
      "execution_count": null,
      "outputs": []
    },
    {
      "cell_type": "code",
      "source": [
        "gdf = shp5070.copy()\n",
        "gdf['interior'] = gdf.geometry.representative_point()"
      ],
      "metadata": {
        "id": "K0GkhmbNAY3D"
      },
      "execution_count": null,
      "outputs": []
    },
    {
      "cell_type": "code",
      "source": [
        "bounds = gdf.total_bounds\n",
        "xres = (bounds[2] - bounds[0]) / width\n",
        "yres = (bounds[3] - bounds[1]) / height\n",
        "transform = Affine.translation(bounds[0], bounds[3]) * Affine.scale(xres, -yres)\n",
        "\n",
        "def pixel(x, y, transform):\n",
        "    col, row = ~transform * (x, y)\n",
        "    return int(row), int(col)\n",
        "\n",
        "pixel_coords = gdf['interior'].apply(lambda pt: pixel(pt.x, pt.y, transform))\n",
        "pixel_coords = np.array(pixel_coords.to_list())"
      ],
      "metadata": {
        "id": "hc-BUOpiAY0-"
      },
      "execution_count": null,
      "outputs": []
    },
    {
      "cell_type": "code",
      "source": [
        "def rgb(img_array, pixel_coords):\n",
        "    h, w = img_array.shape[:2]\n",
        "    rgb_vals = []\n",
        "    for y, x in pixel_coords:\n",
        "        if 0 <= y < h and 0 <= x < w:\n",
        "            rgb_vals.append(tuple(img_array[y, x]))\n",
        "        else:\n",
        "            rgb_vals.append((0, 0, 0))\n",
        "    return rgb_vals\n",
        "\n",
        "gdf['rgb'] = rgb(img_np, pixel_coords)"
      ],
      "metadata": {
        "id": "k78LUzuhAYyI"
      },
      "execution_count": null,
      "outputs": []
    },
    {
      "cell_type": "code",
      "source": [
        "print(gdf[['GEOID', 'rgb']])"
      ],
      "metadata": {
        "id": "2iSWc9ejA65C"
      },
      "execution_count": null,
      "outputs": []
    },
    {
      "cell_type": "code",
      "source": [
        "unique_rgbs = gdf['rgb'].unique()\n",
        "count = 0\n",
        "for rgb in unique_rgbs:\n",
        "  count += 1\n",
        "\n",
        "print(count)"
      ],
      "metadata": {
        "id": "7_kzklwcBGF4"
      },
      "execution_count": null,
      "outputs": []
    },
    {
      "cell_type": "code",
      "source": [
        "gdf[['GEOID', 'NAME', 'rgb']]"
      ],
      "metadata": {
        "id": "qxPSWl_E7G2e"
      },
      "execution_count": null,
      "outputs": []
    },
    {
      "cell_type": "code",
      "source": [
        "img_path = \"/content/drive/MyDrive/AP/test1legend.png\"\n",
        "img = Image.open(img_path).convert(\"RGB\")"
      ],
      "metadata": {
        "id": "sRu7rnKD9uob"
      },
      "execution_count": null,
      "outputs": []
    },
    {
      "cell_type": "code",
      "source": [
        "plt.figure(figsize=(12, 8))\n",
        "plt.imshow(img)\n",
        "plt.title(\"Use grid to locate legend RGBs (bottom-right)\")\n",
        "plt.xticks(np.arange(0, img.width, 100))\n",
        "plt.yticks(np.arange(0, img.height, 50))\n",
        "plt.grid(True)\n",
        "plt.show()"
      ],
      "metadata": {
        "id": "4S0znloM9fdo"
      },
      "execution_count": null,
      "outputs": []
    },
    {
      "cell_type": "code",
      "source": [
        "x, y = 1300, 1450\n",
        "rgb_val = img.getpixel((x, y))\n",
        "rgb_val"
      ],
      "metadata": {
        "id": "BrZwq0eM-FSK"
      },
      "execution_count": null,
      "outputs": []
    },
    {
      "cell_type": "markdown",
      "source": [
        "**Noting down the RGB values of the legend manually:**\n",
        "1. Quintile 1: (214, 214, 252)\n",
        "2. Quintile 2: (144, 151, 221)\n",
        "3. Quintile 3: (90, 107, 195)\n",
        "4. Quintile 4: (47, 77, 167)\n",
        "5. Quintile 5: (21, 56, 143)"
      ],
      "metadata": {
        "id": "fwqQQO0x-Ttn"
      }
    },
    {
      "cell_type": "code",
      "source": [
        "legend_rgb_to_quintile = {\n",
        "    (214, 214, 252): \"1\",\n",
        "    (144, 151, 221): \"2\",\n",
        "    (90, 107, 195):  \"3\",\n",
        "    (47, 77, 167):   \"4\",\n",
        "    (21, 56, 143):   \"5\"\n",
        "}"
      ],
      "metadata": {
        "id": "PCaDwwLI-5Hz"
      },
      "execution_count": null,
      "outputs": []
    },
    {
      "cell_type": "code",
      "source": [
        "legend_rgbs = np.array(list(legend_rgb_to_quintile.keys()))\n",
        "legend_labels = list(legend_rgb_to_quintile.values())\n",
        "county_rgbs = np.array(gdf['rgb'].tolist())\n",
        "nearest_indices = pairwise_distances_argmin(county_rgbs, legend_rgbs)\n",
        "gdf['quintile no.'] = [legend_labels[i] for i in nearest_indices]"
      ],
      "metadata": {
        "id": "pskrIF4P-9FQ"
      },
      "execution_count": null,
      "outputs": []
    },
    {
      "cell_type": "code",
      "source": [
        "unique_quin = gdf['quintile no.'].unique()\n",
        "count = 0\n",
        "for quin in unique_quin:\n",
        "  count += 1\n",
        "\n",
        "print(count)"
      ],
      "metadata": {
        "id": "uTaSZAXH_EKV"
      },
      "execution_count": null,
      "outputs": []
    },
    {
      "cell_type": "code",
      "source": [
        "gdf['rgb'] = gdf['rgb'].apply(lambda x: tuple(int(v) for v in x))"
      ],
      "metadata": {
        "id": "KQYHxEk2ANMz"
      },
      "execution_count": null,
      "outputs": []
    },
    {
      "cell_type": "code",
      "source": [
        "gdf.columns"
      ],
      "metadata": {
        "id": "-thzMskRWBLd"
      },
      "execution_count": null,
      "outputs": []
    },
    {
      "cell_type": "code",
      "source": [
        "gdf = gdf.rename(columns={'FIPS': 'County FIPS', 'NAME': 'County Name', 'STATEFP': 'State FIPS'})\n",
        "gdf = gdf.rename(columns={'quintile no.': 'quintile no'})"
      ],
      "metadata": {
        "id": "z0LRzQm3WL9e"
      },
      "execution_count": null,
      "outputs": []
    },
    {
      "cell_type": "code",
      "source": [
        "gdf_sorted = gdf_sorted.rename(columns={'quintile no': 'Quintile No', 'quintile': 'Quintile'})"
      ],
      "metadata": {
        "id": "d-SFHACbceoi"
      },
      "execution_count": null,
      "outputs": []
    },
    {
      "cell_type": "code",
      "source": [
        "fips_to_state = {\n",
        "    \"01\": \"Alabama\", \"02\": \"Alaska\", \"04\": \"Arizona\", \"05\": \"Arkansas\", \"06\": \"California\", \"08\": \"Colorado\", \"09\": \"Connecticut\", \"10\": \"Delaware\",\n",
        "    \"11\": \"District of Columbia\", \"12\": \"Florida\", \"13\": \"Georgia\", \"15\": \"Hawaii\", \"16\": \"Idaho\", \"17\": \"Illinois\", \"18\": \"Indiana\", \"19\": \"Iowa\",\n",
        "    \"20\": \"Kansas\", \"21\": \"Kentucky\", \"22\": \"Louisiana\", \"23\": \"Maine\", \"24\": \"Maryland\", \"25\": \"Massachusetts\", \"26\": \"Michigan\", \"27\": \"Minnesota\",\n",
        "    \"28\": \"Mississippi\", \"29\": \"Missouri\", \"30\": \"Montana\", \"31\": \"Nebraska\", \"32\": \"Nevada\", \"33\": \"New Hampshire\", \"34\": \"New Jersey\", \"35\": \"New Mexico\",\n",
        "    \"36\": \"New York\", \"37\": \"North Carolina\", \"38\": \"North Dakota\", \"39\": \"Ohio\", \"40\": \"Oklahoma\", \"41\": \"Oregon\", \"42\": \"Pennsylvania\", \"44\": \"Rhode Island\",\n",
        "    \"45\": \"South Carolina\", \"46\": \"South Dakota\", \"47\": \"Tennessee\", \"48\": \"Texas\", \"49\": \"Utah\", \"50\": \"Vermont\", \"51\": \"Virginia\", \"53\": \"Washington\",\n",
        "    \"54\": \"West Virginia\", \"55\": \"Wisconsin\", \"56\": \"Wyoming\", \"72\": \"Puerto Rico\"\n",
        "}"
      ],
      "metadata": {
        "id": "237OGfMNW4QX"
      },
      "execution_count": null,
      "outputs": []
    },
    {
      "cell_type": "code",
      "source": [
        "gdf['State FIPS'] = gdf['State FIPS'].astype(str)\n",
        "gdf['State Name'] = gdf['State FIPS'].map(fips_to_state)"
      ],
      "metadata": {
        "id": "aLz5XEPpXRtD"
      },
      "execution_count": null,
      "outputs": []
    },
    {
      "cell_type": "code",
      "source": [
        "gdf[['County FIPS', 'State FIPS', 'State Name', 'County Name', 'quintile', 'quintile no.']]"
      ],
      "metadata": {
        "id": "8tpXJnnJ_99Q"
      },
      "execution_count": null,
      "outputs": []
    },
    {
      "cell_type": "code",
      "source": [
        "gdf_sorted = gdf.sort_values(by='State Name')\n",
        "gdf_sorted[['State FIPS', 'State Name', 'County FIPS', 'County Name', 'quintile no', 'quintile']]"
      ],
      "metadata": {
        "id": "uzdcVfAVXYrV"
      },
      "execution_count": null,
      "outputs": []
    },
    {
      "cell_type": "code",
      "source": [
        "gdf_sorted['State FIPS'] = gdf_sorted['State FIPS'].astype(str).str.zfill(2)\n",
        "gdf_sorted['County FIPS'] = gdf_sorted['County FIPS'].astype(str).str.zfill(5)"
      ],
      "metadata": {
        "id": "ydizJXV4bWKm"
      },
      "execution_count": null,
      "outputs": []
    },
    {
      "cell_type": "code",
      "source": [
        "gdf_sorted[['State FIPS', 'State Name', 'County FIPS', 'County Name', 'Quintile No', 'Quintile']]"
      ],
      "metadata": {
        "id": "YHysboEFcFth"
      },
      "execution_count": null,
      "outputs": []
    },
    {
      "cell_type": "code",
      "source": [
        "gdf_sorted[['State FIPS', 'State Name', 'County FIPS', 'County Name', 'Quintile No', 'Quintile']].to_csv(\"/content/drive/MyDrive/AP/extracted_data.csv\", index=False)"
      ],
      "metadata": {
        "id": "qVMbHJQz_YyG"
      },
      "execution_count": null,
      "outputs": []
    }
  ],
  "metadata": {
    "colab": {
      "provenance": [],
      "include_colab_link": true
    },
    "kernelspec": {
      "display_name": "Python 3",
      "name": "python3"
    },
    "language_info": {
      "name": "python"
    }
  },
  "nbformat": 4,
  "nbformat_minor": 0
}